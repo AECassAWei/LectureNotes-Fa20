{
 "cells": [
  {
   "cell_type": "markdown",
   "metadata": {
    "slideshow": {
     "slide_type": "slide"
    }
   },
   "source": [
    "**Course Announcements**\n",
    "\n",
    "**Due Dates:**\n",
    "- **A5** due tonight (11:59 PM) \n",
    "- **Final Project/Exam** (Mon 12/14; 11:59 PM)\n",
    "\n",
    "\n",
    "\n",
    "**Notes**\n",
    "- Please fill out your **[CAPEs](cape.ucsd.edu)** (current: 55%)\n",
    "- Please complete **[post-course survey](https://docs.google.com/forms/d/e/1FAIpQLScOn6HK0y0vwZ5Ql4EOBy1DBKwrunr0rycUDjgAeDGqM_IhFA/viewform?usp=sf_link)** (ideally after you finish exam/project)\n",
    "- Prof Ellis' Office Hours Monday (1-3 PM)\n",
    "    - by appointment only (10 min slots): https://cogs18.youcanbook.me/"
   ]
  },
  {
   "cell_type": "markdown",
   "metadata": {
    "slideshow": {
     "slide_type": "fragment"
    }
   },
   "source": [
    "**Final Project/Exam Submission**\n",
    "- Final Project\n",
    "    - zip file submitted on Canvas\n",
    "    - GitHub EC ([link](https://docs.google.com/forms/d/e/1FAIpQLSdKyN1UPzjDcLnDoAnopj77fzaa0zw2nMA5ZG-3C2Ev9j16gQ/viewform?usp=sf_link) also on Canvas)    \n",
    "- Final Exam\n",
    "    - released later today (post made on piazza when available)\n",
    "    - completed and submitted on datahub\n",
    "    - answer key for practice now available\n",
    "    - a reminder about Academic Integrity\n",
    "    \n",
    "    \n",
    "Project Check-In"
   ]
  },
  {
   "cell_type": "markdown",
   "metadata": {
    "slideshow": {
     "slide_type": "slide"
    }
   },
   "source": [
    "# Wrap Up"
   ]
  },
  {
   "cell_type": "markdown",
   "metadata": {
    "collapsed": true,
    "slideshow": {
     "slide_type": "slide"
    }
   },
   "source": [
    "## The Goal"
   ]
  },
  {
   "cell_type": "markdown",
   "metadata": {
    "slideshow": {
     "slide_type": "fragment"
    }
   },
   "source": [
    "To teach you a skill - of how to do things with Python."
   ]
  },
  {
   "cell_type": "markdown",
   "metadata": {
    "slideshow": {
     "slide_type": "fragment"
    }
   },
   "source": [
    "You've been more formally trained than *many* people out in the world programming."
   ]
  },
  {
   "cell_type": "markdown",
   "metadata": {
    "slideshow": {
     "slide_type": "slide"
    }
   },
   "source": [
    "## Where We've Been:\n",
    "\n",
    "- Python & Jupyter\n",
    "- Variables\n",
    "- Operators\n",
    "- Conditionals\n",
    "- Lists, Tuples & Dictionaries\n",
    "- Loops\n",
    "- Functions\n",
    "- Objects & Classes\n",
    "- Namespaces\n",
    "- Command Line\n",
    "- Scientific Computing, & Open Source\n",
    "- Documentation, Code Style, Code Testing"
   ]
  },
  {
   "cell_type": "markdown",
   "metadata": {
    "slideshow": {
     "slide_type": "slide"
    }
   },
   "source": [
    "#### Clicker Question #1\n",
    "\n",
    "After COGS 18, I feel \\_\\_\\_\\_\\_\\_\\_\\_\\_\\_\\_\\_ my Python programming abilities\n",
    "\n",
    "- A) very confident in\n",
    "- B) somewhat confident in\n",
    "- C) middle-of-the-raod about\n",
    "- D) somewhat unsure about\n",
    "- E) very unsure about\n"
   ]
  },
  {
   "cell_type": "markdown",
   "metadata": {
    "slideshow": {
     "slide_type": "slide"
    }
   },
   "source": [
    "#### Clicker Question #2\n",
    "\n",
    "After COGS 18, I feel the following about my future Python programming:\n",
    "\n",
    "- A) will use again for sure\n",
    "- B) may use again\n",
    "- C) unsure if will use again\n",
    "- D) probably won't use again\n",
    "- E) definitely won't use again\n"
   ]
  },
  {
   "cell_type": "markdown",
   "metadata": {
    "slideshow": {
     "slide_type": "slide"
    }
   },
   "source": [
    "## How to Continue with Coding"
   ]
  },
  {
   "cell_type": "markdown",
   "metadata": {
    "slideshow": {
     "slide_type": "fragment"
    }
   },
   "source": [
    "- Write Code\n",
    "- Read Code\n",
    "- Learn and follow standard procedures\n",
    "- Do code reviews\n",
    "- Interact with the community\n",
    "- Build a code portfolio"
   ]
  },
  {
   "cell_type": "markdown",
   "metadata": {
    "slideshow": {
     "slide_type": "slide"
    }
   },
   "source": [
    "## Powered by Python"
   ]
  },
  {
   "cell_type": "markdown",
   "metadata": {
    "slideshow": {
     "slide_type": "fragment"
    }
   },
   "source": [
    "This course used:\n",
    "- Python Programming Language\n",
    "- Jupyter Notebooks\n",
    "- RISE Jupyter Slides\n",
    "- nbgrader\n",
    "- Jupyter Book\n",
    "- scipy stack & many other 3rd party modules"
   ]
  },
  {
   "cell_type": "markdown",
   "metadata": {
    "slideshow": {
     "slide_type": "slide"
    }
   },
   "source": [
    "## Where do you go from here"
   ]
  },
  {
   "cell_type": "markdown",
   "metadata": {
    "slideshow": {
     "slide_type": "fragment"
    }
   },
   "source": [
    "- if want_more_data_science:\n",
    "    - go to COGS 9\n",
    "- if you want_more_data_science *and* Python\n",
    "    - take COGS 108\n",
    "- if interested_in_research:\n",
    "    - look for labs, tell them you can code\n",
    "- if you want_something_else:\n",
    "    - go do it!"
   ]
  },
  {
   "cell_type": "markdown",
   "metadata": {
    "slideshow": {
     "slide_type": "slide"
    }
   },
   "source": [
    "## Acknowledgments"
   ]
  },
  {
   "cell_type": "markdown",
   "metadata": {
    "slideshow": {
     "slide_type": "fragment"
    }
   },
   "source": [
    "Thank you to Tom for his original design of this course."
   ]
  },
  {
   "cell_type": "markdown",
   "metadata": {
    "slideshow": {
     "slide_type": "fragment"
    }
   },
   "source": [
    "Thank you to the TAs & IAs for their tireless work on this class."
   ]
  },
  {
   "cell_type": "markdown",
   "metadata": {
    "slideshow": {
     "slide_type": "fragment"
    }
   },
   "source": [
    "Thank you students for you time, effort and patience. "
   ]
  },
  {
   "cell_type": "markdown",
   "metadata": {
    "slideshow": {
     "slide_type": "fragment"
    }
   },
   "source": [
    "It's been a weird quarter (er...year?), and right now, things are tough. Please, take care of yourself."
   ]
  },
  {
   "cell_type": "markdown",
   "metadata": {
    "collapsed": true,
    "slideshow": {
     "slide_type": "slide"
    }
   },
   "source": [
    "<center><h1> The End "
   ]
  }
 ],
 "metadata": {
  "celltoolbar": "Slideshow",
  "kernelspec": {
   "display_name": "Python 3",
   "language": "python",
   "name": "python3"
  },
  "language_info": {
   "codemirror_mode": {
    "name": "ipython",
    "version": 3
   },
   "file_extension": ".py",
   "mimetype": "text/x-python",
   "name": "python",
   "nbconvert_exporter": "python",
   "pygments_lexer": "ipython3",
   "version": "3.7.9"
  }
 },
 "nbformat": 4,
 "nbformat_minor": 2
}
